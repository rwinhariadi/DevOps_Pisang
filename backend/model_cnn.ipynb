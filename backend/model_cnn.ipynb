version https://git-lfs.github.com/spec/v1
oid sha256:937dac8f07ecea61c6adda85b0d40c59c905c290c6567a08af3fedc2904c30f9
size 126970
